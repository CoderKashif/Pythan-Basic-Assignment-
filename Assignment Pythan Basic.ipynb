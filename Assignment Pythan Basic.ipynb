{
 "cells": [
  {
   "cell_type": "markdown",
   "id": "36234598-5b4c-4d3a-84cc-61d86fdce90c",
   "metadata": {},
   "source": [
    "#Q1. Write all the conventions being followed while declaring a variable."
   ]
  },
  {
   "cell_type": "raw",
   "id": "94e8988e-734c-4884-af85-f0f760b3aaa9",
   "metadata": {},
   "source": [
    "Answer:- A variable name must start with a letter or the underscore character. A variable name cannot start with a number. A variable name can only contain alpha-numeric characters and underscores (A-z, 0-9, and _ ) Variable names are case-sensitive (age, Age and AGE are three different variables)"
   ]
  },
  {
   "cell_type": "markdown",
   "id": "5ce1338f-ebe0-4e5a-b2bb-bbaaf6b7169c",
   "metadata": {},
   "source": [
    "#Q2. What will happen if we declare a restricted keyword as a variable?"
   ]
  },
  {
   "cell_type": "raw",
   "id": "3f1b453f-1d12-4119-94cd-2a0df6ce9ddb",
   "metadata": {},
   "source": [
    "Answer:- We will get a Syntax Error"
   ]
  },
  {
   "cell_type": "markdown",
   "id": "6393494b-afe9-471e-aea2-1bf27c3d0c13",
   "metadata": {},
   "source": [
    "#Q3. Can we actually declare a string as a variable name?"
   ]
  },
  {
   "cell_type": "raw",
   "id": "c89eb75a-4128-4561-98d6-d2973e7e6b2f",
   "metadata": {},
   "source": [
    "Answer:-  we can define a variable name with the string by adding the input string as a key into the symbol table. We can add a single character, numeric values, or strings as the associated value to the variable."
   ]
  },
  {
   "cell_type": "markdown",
   "id": "f9d37c8a-6d0d-4244-a482-41081c66d110",
   "metadata": {},
   "source": [
    "#Q4. Is it possible for us to declare “_” as a variable? If so, then write an example of it."
   ]
  },
  {
   "cell_type": "raw",
   "id": "8bce036b-12c3-4c80-a427-5495af2fa574",
   "metadata": {},
   "source": [
    "Answer:- Eg:- char Final_Grade; // Final_Grade is a variable of type char, and no value is assigned to it. data_type variable_name = val; Eg:- int age = 22; // age is a variable of type int and holds the value 22. Here, data_type specifies the type of variable like int, char, etc."
   ]
  },
  {
   "cell_type": "markdown",
   "id": "fd04dc24-e01e-40a0-891e-9591c457e0ff",
   "metadata": {},
   "source": [
    "#Q5. Using an example, explain how the variables in python are dynamic in nature."
   ]
  },
  {
   "cell_type": "raw",
   "id": "3dfa4d73-0b4d-4c78-b377-75144143693d",
   "metadata": {},
   "source": [
    "Answer:-  Python Variable is containers that store values. Python is not “statically typed”. We do not need to declare variables before using them.\n",
    "example-"
   ]
  },
  {
   "cell_type": "code",
   "execution_count": 2,
   "id": "8bbc4ceb-ecab-42cf-ae7d-0664ac7a0625",
   "metadata": {},
   "outputs": [],
   "source": [
    "a=12.0"
   ]
  },
  {
   "cell_type": "code",
   "execution_count": 4,
   "id": "5c4e8f3b-f242-480c-8a44-d0a41db036c1",
   "metadata": {},
   "outputs": [
    {
     "name": "stdout",
     "output_type": "stream",
     "text": [
      "<class 'float'>\n"
     ]
    }
   ],
   "source": [
    "print(type(a))"
   ]
  },
  {
   "cell_type": "code",
   "execution_count": 5,
   "id": "6b48e093-b2c1-41cc-8844-e41abced2526",
   "metadata": {},
   "outputs": [],
   "source": [
    "b=24"
   ]
  },
  {
   "cell_type": "code",
   "execution_count": 6,
   "id": "2ec35b0f-f718-45a7-8f1d-9814460f4334",
   "metadata": {},
   "outputs": [
    {
     "name": "stdout",
     "output_type": "stream",
     "text": [
      "<class 'int'>\n"
     ]
    }
   ],
   "source": [
    "print(type(b))"
   ]
  },
  {
   "cell_type": "code",
   "execution_count": 7,
   "id": "e78f25b1-6e83-4f99-b3a8-7ac85c5525c1",
   "metadata": {},
   "outputs": [],
   "source": [
    "c='data'"
   ]
  },
  {
   "cell_type": "code",
   "execution_count": 8,
   "id": "3b89d30d-90e0-4566-8d69-c0eeb6eeea07",
   "metadata": {},
   "outputs": [
    {
     "name": "stdout",
     "output_type": "stream",
     "text": [
      "<class 'str'>\n"
     ]
    }
   ],
   "source": [
    "print(type(c))"
   ]
  },
  {
   "cell_type": "code",
   "execution_count": 9,
   "id": "8bbb628b-627e-45b3-90b9-8338e6636c2e",
   "metadata": {},
   "outputs": [
    {
     "name": "stdout",
     "output_type": "stream",
     "text": [
      "36.0\n"
     ]
    }
   ],
   "source": [
    "print(a*3)"
   ]
  },
  {
   "cell_type": "code",
   "execution_count": 10,
   "id": "8e2461c0-346a-4289-a6c8-cc51adb61231",
   "metadata": {},
   "outputs": [
    {
     "name": "stdout",
     "output_type": "stream",
     "text": [
      "96\n"
     ]
    }
   ],
   "source": [
    "print(b*4)"
   ]
  },
  {
   "cell_type": "code",
   "execution_count": 11,
   "id": "5c5a3abb-e5d9-4a76-bdb1-70b38efaa0ce",
   "metadata": {},
   "outputs": [
    {
     "name": "stdout",
     "output_type": "stream",
     "text": [
      "datadatadata\n"
     ]
    }
   ],
   "source": [
    "print(c*3)"
   ]
  }
 ],
 "metadata": {
  "kernelspec": {
   "display_name": "Python 3 (ipykernel)",
   "language": "python",
   "name": "python3"
  },
  "language_info": {
   "codemirror_mode": {
    "name": "ipython",
    "version": 3
   },
   "file_extension": ".py",
   "mimetype": "text/x-python",
   "name": "python",
   "nbconvert_exporter": "python",
   "pygments_lexer": "ipython3",
   "version": "3.10.8"
  }
 },
 "nbformat": 4,
 "nbformat_minor": 5
}

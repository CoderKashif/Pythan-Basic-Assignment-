{
 "cells": [
  {
   "cell_type": "markdown",
   "id": "dd149dbf-2fd6-4225-a95b-3bd288d3d661",
   "metadata": {},
   "source": [
    "Q.1 How can we store a single quote (‘) as a str1ng in a variable?"
   ]
  },
  {
   "cell_type": "markdown",
   "id": "0c3f212a-ed96-46d0-a3de-672f10f347e9",
   "metadata": {},
   "source": [
    "Answer1- Put a backslash character followed by a quote ( \\\" or \\' ). This is called an escape sequence and Python will remove the backslash, and put just the quote in the string."
   ]
  },
  {
   "cell_type": "markdown",
   "id": "8d944f48-8edb-4f18-ba6a-1ba710e455a3",
   "metadata": {},
   "source": [
    "Q.2 Refer the below variable:\n",
    "x = 'a'\n",
    "Here, is x a character type or string type varible? Support your answer with an explanat1on."
   ]
  },
  {
   "cell_type": "markdown",
   "id": "07427b7c-3dcb-4bca-917f-8f107c6577d6",
   "metadata": {},
   "source": [
    "Answer2-"
   ]
  },
  {
   "cell_type": "code",
   "execution_count": 2,
   "id": "7932f4b0-8786-4649-aae3-8950099185ae",
   "metadata": {},
   "outputs": [],
   "source": [
    "x = 'a'"
   ]
  },
  {
   "cell_type": "code",
   "execution_count": 4,
   "id": "41e4108a-7e7a-4584-b2f9-473516478b2c",
   "metadata": {},
   "outputs": [
    {
     "data": {
      "text/plain": [
       "str"
      ]
     },
     "execution_count": 4,
     "metadata": {},
     "output_type": "execute_result"
    }
   ],
   "source": [
    "type(x)"
   ]
  },
  {
   "cell_type": "markdown",
   "id": "df476497-66f0-4c79-bc4b-795233725cf8",
   "metadata": {},
   "source": [
    "thus x is a string type variable."
   ]
  },
  {
   "cell_type": "markdown",
   "id": "6b40dda1-3996-42af-8ace-3d0dd6073c64",
   "metadata": {},
   "source": [
    "Q.3 Apply the follow1ng funct1ons on th1s var1able: 'Welcome to Python foundation course'\n",
    "1. find()\n",
    "2. count()\n",
    "3. len()\n",
    "4. Concatenation\n",
    "Note: You can use your cho1ce of parametersQ But make sure it is correct."
   ]
  },
  {
   "cell_type": "markdown",
   "id": "f67ea3ae-49b6-4945-9e9e-b895b829305b",
   "metadata": {},
   "source": [
    "Answer3- "
   ]
  },
  {
   "cell_type": "code",
   "execution_count": 15,
   "id": "14ad1253-b70f-4e32-8118-cd8e3fcffbf8",
   "metadata": {},
   "outputs": [],
   "source": [
    "function = \"Welcome to Python foundation course\""
   ]
  },
  {
   "cell_type": "code",
   "execution_count": 8,
   "id": "780f6633-8f42-420d-b646-afa93218caf7",
   "metadata": {},
   "outputs": [
    {
     "data": {
      "text/plain": [
       "5"
      ]
     },
     "execution_count": 8,
     "metadata": {},
     "output_type": "execute_result"
    }
   ],
   "source": [
    "function.find('m')"
   ]
  },
  {
   "cell_type": "code",
   "execution_count": 11,
   "id": "fc059516-6670-497c-816b-1e5565971560",
   "metadata": {},
   "outputs": [
    {
     "data": {
      "text/plain": [
       "6"
      ]
     },
     "execution_count": 11,
     "metadata": {},
     "output_type": "execute_result"
    }
   ],
   "source": [
    "function.count('o')"
   ]
  },
  {
   "cell_type": "code",
   "execution_count": 18,
   "id": "a796cec8-35d8-4f56-b797-3bb7f27b4707",
   "metadata": {},
   "outputs": [
    {
     "data": {
      "text/plain": [
       "35"
      ]
     },
     "execution_count": 18,
     "metadata": {},
     "output_type": "execute_result"
    }
   ],
   "source": [
    "len(function)"
   ]
  },
  {
   "cell_type": "code",
   "execution_count": 25,
   "id": "c86f80f2-15bc-4f81-a221-facc103a9e03",
   "metadata": {},
   "outputs": [],
   "source": [
    "s1 = \"pw\""
   ]
  },
  {
   "cell_type": "code",
   "execution_count": 26,
   "id": "3e053e08-2a5f-4eb0-96ed-8498464ac89a",
   "metadata": {},
   "outputs": [],
   "source": [
    "s2 = \"skills\""
   ]
  },
  {
   "cell_type": "code",
   "execution_count": 28,
   "id": "e9e54a3d-a209-4367-81e5-b0b29ea6f650",
   "metadata": {},
   "outputs": [
    {
     "name": "stdout",
     "output_type": "stream",
     "text": [
      "pwskills\n"
     ]
    }
   ],
   "source": [
    "print(s1 + s2)"
   ]
  },
  {
   "cell_type": "markdown",
   "id": "e1175318-541a-4d5f-a5fc-8556e52ae508",
   "metadata": {},
   "source": [
    "above is the example for concatenation"
   ]
  },
  {
   "cell_type": "markdown",
   "id": "9cd6c10f-3eb9-4742-b6bc-d059682948ec",
   "metadata": {},
   "source": [
    "Q.4  For the var1able: word = \"PanaJi@12256\"\n",
    "Calculate the follow1ng:\n",
    "(a) Total number of alphabets 1n lowercase\n",
    "(b) Total number of alphabets 1n uppercase\n",
    "(c) Total number of numer1cal 1n str1ng"
   ]
  },
  {
   "cell_type": "markdown",
   "id": "d3497feb-3112-4cb6-a126-a44362613e9e",
   "metadata": {},
   "source": [
    "Answer4- "
   ]
  },
  {
   "cell_type": "code",
   "execution_count": 52,
   "id": "90d04ad2-8d9a-4841-a401-a44c0c867e2c",
   "metadata": {},
   "outputs": [],
   "source": [
    "word  = \"PanaJi@12256\"\n",
    "l=0\n",
    "u=0\n",
    "d=0\n",
    "for character in word:\n",
    "    if character.islower():\n",
    "        l=l+1\n",
    "    elif character.isupper():\n",
    "        u=u+1\n",
    "    elif character.isdigit():\n",
    "        d=d+1"
   ]
  },
  {
   "cell_type": "code",
   "execution_count": 53,
   "id": "91a85bf0-1ccb-404d-9612-5cbd88d56e3f",
   "metadata": {},
   "outputs": [
    {
     "name": "stdout",
     "output_type": "stream",
     "text": [
      "lower count:  4\n",
      "Upper count:  2\n",
      "Digit count:  5\n"
     ]
    }
   ],
   "source": [
    "print(\"lower count: \",l)\n",
    "print(\"Upper count: \",u) \n",
    "print(\"Digit count: \",d)"
   ]
  },
  {
   "cell_type": "markdown",
   "id": "23b6a5e0-0847-4675-b447-a01ab38354c7",
   "metadata": {},
   "source": [
    "Q.5 Write a code to store a numerical value into a variable then convert it into string."
   ]
  },
  {
   "cell_type": "markdown",
   "id": "a4e7b235-3b2d-4818-a3c2-ddc1743abd3a",
   "metadata": {},
   "source": [
    "Answer5- "
   ]
  },
  {
   "cell_type": "code",
   "execution_count": 54,
   "id": "2dae506b-c552-45c9-be36-1aba34490c10",
   "metadata": {},
   "outputs": [
    {
     "data": {
      "text/plain": [
       "int"
      ]
     },
     "execution_count": 54,
     "metadata": {},
     "output_type": "execute_result"
    }
   ],
   "source": [
    "n = 10\n",
    "type(n)"
   ]
  },
  {
   "cell_type": "code",
   "execution_count": 55,
   "id": "d59efcc5-abbf-4c7c-8352-8ca931e5147d",
   "metadata": {},
   "outputs": [],
   "source": [
    "n = type(str(n))"
   ]
  },
  {
   "cell_type": "code",
   "execution_count": 56,
   "id": "939e1856-48cc-42d7-9fc8-fb4235ebf4bb",
   "metadata": {},
   "outputs": [
    {
     "name": "stdout",
     "output_type": "stream",
     "text": [
      "<class 'str'>\n"
     ]
    }
   ],
   "source": [
    "print(n)"
   ]
  }
 ],
 "metadata": {
  "kernelspec": {
   "display_name": "Python 3 (ipykernel)",
   "language": "python",
   "name": "python3"
  },
  "language_info": {
   "codemirror_mode": {
    "name": "ipython",
    "version": 3
   },
   "file_extension": ".py",
   "mimetype": "text/x-python",
   "name": "python",
   "nbconvert_exporter": "python",
   "pygments_lexer": "ipython3",
   "version": "3.10.8"
  }
 },
 "nbformat": 4,
 "nbformat_minor": 5
}

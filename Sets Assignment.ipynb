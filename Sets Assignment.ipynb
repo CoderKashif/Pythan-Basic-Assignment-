{
 "cells": [
  {
   "cell_type": "markdown",
   "id": "eb5fadf9-1e4d-4d13-8e5b-2cbba8530049",
   "metadata": {},
   "source": [
    "Q1. What is a set in Python?"
   ]
  },
  {
   "cell_type": "markdown",
   "id": "641afd28-c978-46cb-bd6f-5a61f9902cc1",
   "metadata": {},
   "source": [
    "Answer1- Sets are used to store multiple items in a single variable."
   ]
  },
  {
   "cell_type": "code",
   "execution_count": 1,
   "id": "824b8a2f-b00d-4baf-9f54-c57d65881e04",
   "metadata": {},
   "outputs": [],
   "source": [
    "s = {1,23,43,2}"
   ]
  },
  {
   "cell_type": "code",
   "execution_count": 2,
   "id": "7075eaae-09ae-40e8-b3a8-e4a7d14961b6",
   "metadata": {},
   "outputs": [
    {
     "data": {
      "text/plain": [
       "set"
      ]
     },
     "execution_count": 2,
     "metadata": {},
     "output_type": "execute_result"
    }
   ],
   "source": [
    "type(s)"
   ]
  },
  {
   "cell_type": "markdown",
   "id": "2e85add4-c9e8-4fc8-aaba-13283afd7b6b",
   "metadata": {},
   "source": [
    "Q2.How do you create a set in Python?"
   ]
  },
  {
   "cell_type": "markdown",
   "id": "be9b5fd5-b2ce-421b-914f-eda300869720",
   "metadata": {},
   "source": [
    "Answer2- In Python, a set is created by placing all the elements/items inside the curly braces {}, each value separated by a comma, or by using the Python set() built-in function."
   ]
  },
  {
   "cell_type": "markdown",
   "id": "19c249bd-56ae-4a62-8975-111bc116d294",
   "metadata": {},
   "source": [
    "Q3. How do you add elements to a set in Python?"
   ]
  },
  {
   "cell_type": "markdown",
   "id": "dcb4373e-c5c9-40b5-8023-4bd849a9bc14",
   "metadata": {},
   "source": [
    "Answer3- using the add() method with the new item to be added passed in as a parameter."
   ]
  },
  {
   "cell_type": "code",
   "execution_count": 3,
   "id": "6a2844ed-95b1-4877-b853-38cf84938461",
   "metadata": {},
   "outputs": [],
   "source": [
    "s = {1,23,43,2}"
   ]
  },
  {
   "cell_type": "code",
   "execution_count": 4,
   "id": "e5b05dc5-24e4-49ad-b164-4175ee42be73",
   "metadata": {},
   "outputs": [],
   "source": [
    "s.add(100)"
   ]
  },
  {
   "cell_type": "code",
   "execution_count": 5,
   "id": "89e53d82-b34f-4add-b6ef-8e0d4ea10c82",
   "metadata": {},
   "outputs": [
    {
     "data": {
      "text/plain": [
       "{1, 2, 23, 43, 100}"
      ]
     },
     "execution_count": 5,
     "metadata": {},
     "output_type": "execute_result"
    }
   ],
   "source": [
    "s"
   ]
  },
  {
   "cell_type": "markdown",
   "id": "666fbce6-697c-4cb8-a2bc-b2e313b08cf4",
   "metadata": {},
   "source": [
    "Q4. How do you remove elements from a set in Python?"
   ]
  },
  {
   "cell_type": "markdown",
   "id": "8e67e90e-3912-43f2-bdb0-f10b2133c8e9",
   "metadata": {},
   "source": [
    "Answer4- for remving a element from the set we can use .remove() function "
   ]
  },
  {
   "cell_type": "code",
   "execution_count": 6,
   "id": "efbcba3e-f4f8-4be4-86ea-37f32fc6af53",
   "metadata": {},
   "outputs": [],
   "source": [
    "s = {1,23,43,2}"
   ]
  },
  {
   "cell_type": "code",
   "execution_count": 7,
   "id": "fb7afb36-994d-41b6-86c1-aa8b1644e0e6",
   "metadata": {},
   "outputs": [],
   "source": [
    "s.remove(43)"
   ]
  },
  {
   "cell_type": "code",
   "execution_count": 8,
   "id": "47e7fc49-6444-4ff1-b090-d978bd59ced2",
   "metadata": {},
   "outputs": [
    {
     "data": {
      "text/plain": [
       "{1, 2, 23}"
      ]
     },
     "execution_count": 8,
     "metadata": {},
     "output_type": "execute_result"
    }
   ],
   "source": [
    "s"
   ]
  },
  {
   "cell_type": "markdown",
   "id": "2962f9ad-df18-430d-be41-b7e7e993cd88",
   "metadata": {},
   "source": [
    "but if the value is not in the set then it will show error"
   ]
  },
  {
   "cell_type": "code",
   "execution_count": 10,
   "id": "cb800eaf-f589-450d-8a54-da62d6ae85b4",
   "metadata": {},
   "outputs": [
    {
     "ename": "KeyError",
     "evalue": "50",
     "output_type": "error",
     "traceback": [
      "\u001b[0;31m---------------------------------------------------------------------------\u001b[0m",
      "\u001b[0;31mKeyError\u001b[0m                                  Traceback (most recent call last)",
      "Cell \u001b[0;32mIn[10], line 1\u001b[0m\n\u001b[0;32m----> 1\u001b[0m \u001b[43ms\u001b[49m\u001b[38;5;241;43m.\u001b[39;49m\u001b[43mremove\u001b[49m\u001b[43m(\u001b[49m\u001b[38;5;241;43m50\u001b[39;49m\u001b[43m)\u001b[49m\n",
      "\u001b[0;31mKeyError\u001b[0m: 50"
     ]
    }
   ],
   "source": [
    "s.remove(50)"
   ]
  },
  {
   "cell_type": "markdown",
   "id": "65788d05-4624-4397-a85c-76b90c31c6f6",
   "metadata": {},
   "source": [
    "we can also use .discard() function too for removing the an element from the set and if the value is not in the set then it will not show error also."
   ]
  },
  {
   "cell_type": "code",
   "execution_count": 11,
   "id": "af33b85f-7dd3-43d5-845e-1c2b2a9dae84",
   "metadata": {},
   "outputs": [],
   "source": [
    "s = {1,23,43,2}"
   ]
  },
  {
   "cell_type": "code",
   "execution_count": 12,
   "id": "96b6e712-1afa-4aa7-afea-04a1bf715bc6",
   "metadata": {},
   "outputs": [],
   "source": [
    "s.discard(23)"
   ]
  },
  {
   "cell_type": "code",
   "execution_count": 13,
   "id": "7b3da2cd-7688-440a-88e8-b305b203863f",
   "metadata": {},
   "outputs": [
    {
     "data": {
      "text/plain": [
       "{1, 2, 43}"
      ]
     },
     "execution_count": 13,
     "metadata": {},
     "output_type": "execute_result"
    }
   ],
   "source": [
    "s"
   ]
  },
  {
   "cell_type": "code",
   "execution_count": 14,
   "id": "501d4588-b0c8-4833-9e6e-775ee590bb0b",
   "metadata": {},
   "outputs": [],
   "source": [
    "s.discard(50)"
   ]
  },
  {
   "cell_type": "code",
   "execution_count": 15,
   "id": "7834371a-edc4-4590-b997-c5670a7bff32",
   "metadata": {},
   "outputs": [
    {
     "data": {
      "text/plain": [
       "{1, 2, 43}"
      ]
     },
     "execution_count": 15,
     "metadata": {},
     "output_type": "execute_result"
    }
   ],
   "source": [
    "s"
   ]
  },
  {
   "cell_type": "markdown",
   "id": "eefad6ed-1fba-46fd-a344-0a5334dd741d",
   "metadata": {},
   "source": [
    "Q5. How do you get the length of a set in Python?"
   ]
  },
  {
   "cell_type": "markdown",
   "id": "e96ca557-11e6-437d-934e-8433b09d474a",
   "metadata": {},
   "source": [
    "Answer5- To determine the length of a set in Python, we use the len() function."
   ]
  },
  {
   "cell_type": "code",
   "execution_count": 16,
   "id": "95744fef-4a5a-43f0-b0f6-2c9f9125fcb6",
   "metadata": {},
   "outputs": [],
   "source": [
    "s = {1,23,43,2}"
   ]
  },
  {
   "cell_type": "code",
   "execution_count": 18,
   "id": "eb6cf57c-5369-4ec7-8264-0d16ed4feea5",
   "metadata": {},
   "outputs": [
    {
     "data": {
      "text/plain": [
       "4"
      ]
     },
     "execution_count": 18,
     "metadata": {},
     "output_type": "execute_result"
    }
   ],
   "source": [
    "len(s)"
   ]
  }
 ],
 "metadata": {
  "kernelspec": {
   "display_name": "Python 3 (ipykernel)",
   "language": "python",
   "name": "python3"
  },
  "language_info": {
   "codemirror_mode": {
    "name": "ipython",
    "version": 3
   },
   "file_extension": ".py",
   "mimetype": "text/x-python",
   "name": "python",
   "nbconvert_exporter": "python",
   "pygments_lexer": "ipython3",
   "version": "3.10.8"
  }
 },
 "nbformat": 4,
 "nbformat_minor": 5
}

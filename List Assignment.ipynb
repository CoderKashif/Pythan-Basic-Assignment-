{
 "cells": [
  {
   "cell_type": "markdown",
   "id": "34bb016e-b6b7-40ab-a1d0-0dcc30a2c13e",
   "metadata": {},
   "source": [
    "Q1. Create an empty list."
   ]
  },
  {
   "cell_type": "markdown",
   "id": "a82dfc49-4642-4ead-b17c-37d2763c668b",
   "metadata": {},
   "source": [
    "Answer1-"
   ]
  },
  {
   "cell_type": "code",
   "execution_count": 17,
   "id": "2563ba05-69ee-4c6e-9782-62ec8467eba5",
   "metadata": {},
   "outputs": [],
   "source": [
    "my_list = [1,2,3]"
   ]
  },
  {
   "cell_type": "code",
   "execution_count": 2,
   "id": "bcf5a04b-6f3d-4388-8a66-16f400b512a4",
   "metadata": {},
   "outputs": [
    {
     "data": {
      "text/plain": [
       "list"
      ]
     },
     "execution_count": 2,
     "metadata": {},
     "output_type": "execute_result"
    }
   ],
   "source": [
    "type(my_list)"
   ]
  },
  {
   "cell_type": "markdown",
   "id": "d8d6cfd6-cfdb-4238-9742-78286809f3f6",
   "metadata": {},
   "source": [
    "Q2. Create a list and add an element to the end of this list."
   ]
  },
  {
   "cell_type": "markdown",
   "id": "292ec36f-056a-4be3-b8ba-347241cb656d",
   "metadata": {},
   "source": [
    "Answer2-"
   ]
  },
  {
   "cell_type": "code",
   "execution_count": 13,
   "id": "f39217d5-cec9-407b-a7e7-2c7c96da4bf3",
   "metadata": {},
   "outputs": [],
   "source": [
    "l = [1,2,3]"
   ]
  },
  {
   "cell_type": "code",
   "execution_count": 14,
   "id": "85aebc46-7a63-408c-9a9e-11fc80e2d0cf",
   "metadata": {},
   "outputs": [],
   "source": [
    "l.append('item')"
   ]
  },
  {
   "cell_type": "code",
   "execution_count": 15,
   "id": "85802562-3a96-4d14-9ab5-4ab47f6dae19",
   "metadata": {},
   "outputs": [
    {
     "name": "stdout",
     "output_type": "stream",
     "text": [
      "[1, 2, 3, 'item']\n"
     ]
    }
   ],
   "source": [
    "print(l)"
   ]
  },
  {
   "cell_type": "markdown",
   "id": "8af0314b-1526-44b4-a505-3416b78ee1fb",
   "metadata": {},
   "source": [
    "Q3. For the above created list print the last element."
   ]
  },
  {
   "cell_type": "markdown",
   "id": "526cdcc9-1331-4be4-b7ab-c06779310833",
   "metadata": {},
   "source": [
    "Answer3-"
   ]
  },
  {
   "cell_type": "code",
   "execution_count": 22,
   "id": "795864af-1751-43a7-b6e3-30394d03dbc8",
   "metadata": {},
   "outputs": [
    {
     "data": {
      "text/plain": [
       "[1, 2, 3, 'item']"
      ]
     },
     "execution_count": 22,
     "metadata": {},
     "output_type": "execute_result"
    }
   ],
   "source": [
    "l"
   ]
  },
  {
   "cell_type": "code",
   "execution_count": 25,
   "id": "12f7ccc9-d1f8-4fa8-97b4-b8387a655301",
   "metadata": {},
   "outputs": [
    {
     "name": "stdout",
     "output_type": "stream",
     "text": [
      "item\n"
     ]
    }
   ],
   "source": [
    "print(l[-1])"
   ]
  },
  {
   "cell_type": "markdown",
   "id": "1c26be7f-1317-4662-a2db-312edfd9b22a",
   "metadata": {},
   "source": [
    "Q4. Reverse the above created list."
   ]
  },
  {
   "cell_type": "markdown",
   "id": "fa21cf06-b7e3-419b-85c9-6fb8cbb24487",
   "metadata": {},
   "source": [
    "Answer4-"
   ]
  },
  {
   "cell_type": "code",
   "execution_count": 26,
   "id": "6044ebaf-0a33-4a1f-a384-1445cd9934c0",
   "metadata": {},
   "outputs": [
    {
     "data": {
      "text/plain": [
       "[1, 2, 3, 'item']"
      ]
     },
     "execution_count": 26,
     "metadata": {},
     "output_type": "execute_result"
    }
   ],
   "source": [
    "l"
   ]
  },
  {
   "cell_type": "code",
   "execution_count": 27,
   "id": "087db95a-3acd-4121-b202-9a15003cf28c",
   "metadata": {},
   "outputs": [
    {
     "data": {
      "text/plain": [
       "['item', 3, 2, 1]"
      ]
     },
     "execution_count": 27,
     "metadata": {},
     "output_type": "execute_result"
    }
   ],
   "source": [
    "l[::-1]"
   ]
  },
  {
   "cell_type": "markdown",
   "id": "4020897a-90dc-49cd-b2eb-a570f8021b1d",
   "metadata": {},
   "source": [
    "Q5. Sort the above created list."
   ]
  },
  {
   "cell_type": "markdown",
   "id": "5816e808-a6a5-40bb-b21f-4c9fafe81044",
   "metadata": {},
   "source": [
    "Answer5-"
   ]
  },
  {
   "cell_type": "code",
   "execution_count": 31,
   "id": "553be31d-6773-4747-afb8-105877f1d13e",
   "metadata": {},
   "outputs": [],
   "source": [
    "l = [1,2,3,4]"
   ]
  },
  {
   "cell_type": "code",
   "execution_count": 32,
   "id": "94fde0ca-cad7-4964-a1fe-97090f435e1a",
   "metadata": {},
   "outputs": [],
   "source": [
    "l.sort()"
   ]
  },
  {
   "cell_type": "code",
   "execution_count": 33,
   "id": "70f27861-e8a5-4896-aaae-4ecf743df9f7",
   "metadata": {},
   "outputs": [
    {
     "name": "stdout",
     "output_type": "stream",
     "text": [
      "[1, 2, 3, 4]\n"
     ]
    }
   ],
   "source": [
    "print(l)"
   ]
  },
  {
   "cell_type": "markdown",
   "id": "e6ddb229-fb58-4de1-bbe0-8e6c1e62f4ef",
   "metadata": {},
   "source": [
    "Q6. Create a list of your top three favorite movies, then print the second movie title."
   ]
  },
  {
   "cell_type": "markdown",
   "id": "5bdb7227-7a1d-4ba1-9463-472fbd6d09b1",
   "metadata": {},
   "source": [
    "Answer6-"
   ]
  },
  {
   "cell_type": "code",
   "execution_count": 36,
   "id": "3d17bda7-89b4-4ed1-bb42-ee7a9e908d25",
   "metadata": {},
   "outputs": [],
   "source": [
    "l2 = ['Pathaan', 'TopGun-Mavrick', 'Super30'] "
   ]
  },
  {
   "cell_type": "code",
   "execution_count": 37,
   "id": "b76e3512-14c5-455f-8d89-2357a2b24702",
   "metadata": {},
   "outputs": [
    {
     "name": "stdout",
     "output_type": "stream",
     "text": [
      "TopGun-Mavrick\n"
     ]
    }
   ],
   "source": [
    "print(l2[1])"
   ]
  },
  {
   "cell_type": "markdown",
   "id": "2c6587e9-3fba-4b70-a853-533e4f36efdf",
   "metadata": {},
   "source": [
    "Q7. Create a list of your favorite animals, then add a new animal to the list and print the updated list."
   ]
  },
  {
   "cell_type": "markdown",
   "id": "52da9b8a-ebe6-4761-9779-a69ab8eafde7",
   "metadata": {},
   "source": [
    "Answer7- "
   ]
  },
  {
   "cell_type": "code",
   "execution_count": 39,
   "id": "dfcfac72-8c95-42e8-bdb6-e95a721098f9",
   "metadata": {},
   "outputs": [],
   "source": [
    "l3 = ['Lion', 'Horse', 'Cat', 'Dog']"
   ]
  },
  {
   "cell_type": "code",
   "execution_count": 40,
   "id": "5ccdb9f6-6079-480c-ac3a-387a19bfd553",
   "metadata": {},
   "outputs": [],
   "source": [
    "l3.append('Zebra')"
   ]
  },
  {
   "cell_type": "code",
   "execution_count": 41,
   "id": "cdc7aafb-ba60-4322-9083-75d6bad8e3d5",
   "metadata": {},
   "outputs": [
    {
     "name": "stdout",
     "output_type": "stream",
     "text": [
      "['Lion', 'Horse', 'Cat', 'Dog', 'Zebra']\n"
     ]
    }
   ],
   "source": [
    "print(l3)"
   ]
  },
  {
   "cell_type": "markdown",
   "id": "d656e76f-73fd-4627-aee9-ebda6a5a3a12",
   "metadata": {},
   "source": [
    "Q8. Create a list of your favorite cities, then use the index() method to find the position of a specific city\n",
    "on the list and print it."
   ]
  },
  {
   "cell_type": "markdown",
   "id": "ae6ca92b-481d-4e45-b6df-4f57f5e00f62",
   "metadata": {},
   "source": [
    "Answer8-"
   ]
  },
  {
   "cell_type": "code",
   "execution_count": 42,
   "id": "92528ea9-743e-4f81-9352-b1e019095ec1",
   "metadata": {},
   "outputs": [],
   "source": [
    "l4 = ['Lucknow', 'Delhi', 'Bangalore', 'Dehradun', 'keral']"
   ]
  },
  {
   "cell_type": "code",
   "execution_count": null,
   "id": "416ea3d5-dbfe-4d94-b0de-062175b214b5",
   "metadata": {},
   "outputs": [],
   "source": []
  }
 ],
 "metadata": {
  "kernelspec": {
   "display_name": "Python 3 (ipykernel)",
   "language": "python",
   "name": "python3"
  },
  "language_info": {
   "codemirror_mode": {
    "name": "ipython",
    "version": 3
   },
   "file_extension": ".py",
   "mimetype": "text/x-python",
   "name": "python",
   "nbconvert_exporter": "python",
   "pygments_lexer": "ipython3",
   "version": "3.10.8"
  }
 },
 "nbformat": 4,
 "nbformat_minor": 5
}

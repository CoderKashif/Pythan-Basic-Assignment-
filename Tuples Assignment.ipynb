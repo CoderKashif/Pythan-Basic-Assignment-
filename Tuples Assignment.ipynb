{
 "cells": [
  {
   "cell_type": "markdown",
   "id": "74010113-c8ff-4b18-a3a9-cf3de0f256ab",
   "metadata": {},
   "source": [
    "Q1. What is a tuple in Python?"
   ]
  },
  {
   "cell_type": "markdown",
   "id": "c37f4db4-9452-4578-b547-0f546050f451",
   "metadata": {},
   "source": [
    "Answer1- Tuple is one of 4 built-in data types in Python used to store collections of data."
   ]
  },
  {
   "cell_type": "code",
   "execution_count": 1,
   "id": "5d2383ed-fd04-4de3-adca-6b9885da152a",
   "metadata": {},
   "outputs": [],
   "source": [
    "t = ()"
   ]
  },
  {
   "cell_type": "code",
   "execution_count": 3,
   "id": "5ee2440a-dadd-4b13-9202-02606bea1baa",
   "metadata": {},
   "outputs": [
    {
     "data": {
      "text/plain": [
       "tuple"
      ]
     },
     "execution_count": 3,
     "metadata": {},
     "output_type": "execute_result"
    }
   ],
   "source": [
    "type(t)"
   ]
  },
  {
   "cell_type": "markdown",
   "id": "212cd905-976a-4451-b8a5-d546bddd1814",
   "metadata": {},
   "source": [
    "Q2. How do you create a tuple in Python?"
   ]
  },
  {
   "cell_type": "markdown",
   "id": "67e8a59f-4466-48b7-ab23-b60659b2a2e9",
   "metadata": {},
   "source": [
    "Answer2- A tuple is created by placing all the items (elements) inside parentheses () , separated by commas."
   ]
  },
  {
   "cell_type": "code",
   "execution_count": 4,
   "id": "d1bf3326-478d-44ac-a45a-1033ed350ada",
   "metadata": {},
   "outputs": [],
   "source": [
    "t = (1,2,3,\"kashif\", 74.32, True)"
   ]
  },
  {
   "cell_type": "code",
   "execution_count": 5,
   "id": "3e14656f-601d-4b57-b6c7-d0c3d3b7f2cc",
   "metadata": {},
   "outputs": [
    {
     "data": {
      "text/plain": [
       "tuple"
      ]
     },
     "execution_count": 5,
     "metadata": {},
     "output_type": "execute_result"
    }
   ],
   "source": [
    "type(t)"
   ]
  },
  {
   "cell_type": "markdown",
   "id": "f7f38972-1230-4819-8026-e6ed8506b615",
   "metadata": {},
   "source": [
    "Q3. What is the difference between a tuple and a list in Python?"
   ]
  },
  {
   "cell_type": "markdown",
   "id": "7cc1a9f0-16ef-4363-8069-e05c2ad72050",
   "metadata": {},
   "source": [
    "Answer3- The primary difference between tuples and lists is that tuples are immutable as opposed to lists which are mutable. Therefore, it is possible to change a list but not a tuple."
   ]
  },
  {
   "cell_type": "code",
   "execution_count": 6,
   "id": "702a3285-9f24-4144-8474-cc0e892359f9",
   "metadata": {},
   "outputs": [],
   "source": [
    "t = (1,2,3,\"kashif\", 74.32, True)"
   ]
  },
  {
   "cell_type": "code",
   "execution_count": 7,
   "id": "1b0de12d-a759-45ee-9156-a65a6bae1239",
   "metadata": {},
   "outputs": [],
   "source": [
    "l = [1,2,3,\"kashif\", 74.32, True]"
   ]
  },
  {
   "cell_type": "code",
   "execution_count": 8,
   "id": "3b3e94ed-c5a6-41bd-9117-b96953499e21",
   "metadata": {},
   "outputs": [
    {
     "ename": "TypeError",
     "evalue": "'tuple' object does not support item assignment",
     "output_type": "error",
     "traceback": [
      "\u001b[0;31m---------------------------------------------------------------------------\u001b[0m",
      "\u001b[0;31mTypeError\u001b[0m                                 Traceback (most recent call last)",
      "Cell \u001b[0;32mIn[8], line 1\u001b[0m\n\u001b[0;32m----> 1\u001b[0m \u001b[43mt\u001b[49m\u001b[43m[\u001b[49m\u001b[38;5;241;43m2\u001b[39;49m\u001b[43m]\u001b[49m \u001b[38;5;241m=\u001b[39m \u001b[38;5;124m\"\u001b[39m\u001b[38;5;124mpwskills\u001b[39m\u001b[38;5;124m\"\u001b[39m\n",
      "\u001b[0;31mTypeError\u001b[0m: 'tuple' object does not support item assignment"
     ]
    }
   ],
   "source": [
    "t[2] = \"pwskills\""
   ]
  },
  {
   "cell_type": "code",
   "execution_count": 9,
   "id": "6209ec76-e84f-4ffd-8426-2b6b77be5e51",
   "metadata": {},
   "outputs": [],
   "source": [
    "l[2] = \"pwskills\""
   ]
  },
  {
   "cell_type": "code",
   "execution_count": 10,
   "id": "eec6474e-d93d-47f9-99a7-582db8bae978",
   "metadata": {},
   "outputs": [
    {
     "data": {
      "text/plain": [
       "[1, 2, 'pwskills', 'kashif', 74.32, True]"
      ]
     },
     "execution_count": 10,
     "metadata": {},
     "output_type": "execute_result"
    }
   ],
   "source": [
    "l"
   ]
  },
  {
   "cell_type": "markdown",
   "id": "30bd7f84-93a7-405e-8143-9a993fd60d52",
   "metadata": {},
   "source": [
    "Q4. Can a tuple be changed in Python?"
   ]
  },
  {
   "cell_type": "markdown",
   "id": "2b497444-bdce-4c42-8f1c-963c12a254f9",
   "metadata": {},
   "source": [
    "Answer4- Once a tuple is created, you cannot change its values. Tuples are unchangeable, or immutable as it also is called."
   ]
  },
  {
   "cell_type": "markdown",
   "id": "ff5a9a6d-3b10-4dcb-ad91-c1127b68da07",
   "metadata": {},
   "source": [
    "Q5. How do you access elements in a tuple?"
   ]
  },
  {
   "cell_type": "markdown",
   "id": "d0471a80-a7ba-47b6-b547-2411230a7320",
   "metadata": {},
   "source": [
    "Answer5- We can use the index operator [] to access an item in a tuple."
   ]
  },
  {
   "cell_type": "code",
   "execution_count": 11,
   "id": "acd554dd-8b41-4493-ab2e-7b0a3aa92817",
   "metadata": {},
   "outputs": [],
   "source": [
    "t = (1,2,3,\"kashif\", 74.32, True)"
   ]
  },
  {
   "cell_type": "code",
   "execution_count": 12,
   "id": "105872f5-36c9-4e75-ac1b-fddea8200293",
   "metadata": {},
   "outputs": [
    {
     "data": {
      "text/plain": [
       "'kashif'"
      ]
     },
     "execution_count": 12,
     "metadata": {},
     "output_type": "execute_result"
    }
   ],
   "source": [
    "t[3]"
   ]
  },
  {
   "cell_type": "code",
   "execution_count": 13,
   "id": "d4c060bb-24f5-4384-bcff-3efdd8de9794",
   "metadata": {},
   "outputs": [
    {
     "data": {
      "text/plain": [
       "3"
      ]
     },
     "execution_count": 13,
     "metadata": {},
     "output_type": "execute_result"
    }
   ],
   "source": [
    "t[2]"
   ]
  },
  {
   "cell_type": "markdown",
   "id": "a2cc0f24-6cee-4e07-95b1-3dba2a5014bd",
   "metadata": {},
   "source": [
    "Q6. How do you unpack a tuple in Python?"
   ]
  },
  {
   "cell_type": "markdown",
   "id": "88bc387c-159d-46c6-b11f-05bddda9e549",
   "metadata": {},
   "source": [
    "Answer6- Python uses a special syntax to pass optional arguments (*args) for tuple unpacking. This means that there can be many number of arguments in place of (*args) in python. All values will be assigned to every variable on the left-hand side and all remaining values will be assigned to *args ."
   ]
  },
  {
   "cell_type": "code",
   "execution_count": 18,
   "id": "973a4c62-4631-4430-b555-98c7390f00da",
   "metadata": {},
   "outputs": [],
   "source": [
    "x,*y,z = (1,2,3,\"kashif\", 74.32, True)"
   ]
  },
  {
   "cell_type": "code",
   "execution_count": 19,
   "id": "8da94a31-d90c-4ba1-a4a5-c3fcbd49c748",
   "metadata": {},
   "outputs": [
    {
     "name": "stdout",
     "output_type": "stream",
     "text": [
      "1\n",
      "[2, 3, 'kashif', 74.32]\n",
      "True\n"
     ]
    }
   ],
   "source": [
    "print(x)\n",
    "print(y)\n",
    "print(z)"
   ]
  },
  {
   "cell_type": "code",
   "execution_count": 20,
   "id": "1324f56d-a49f-4a65-9229-120160593d7d",
   "metadata": {},
   "outputs": [],
   "source": [
    "x,y,*z = (1,2,3,\"kashif\", 74.32, True)"
   ]
  },
  {
   "cell_type": "code",
   "execution_count": 21,
   "id": "8dd03dc7-16e3-485c-bfc4-f248bfa3bc4d",
   "metadata": {},
   "outputs": [
    {
     "name": "stdout",
     "output_type": "stream",
     "text": [
      "1\n",
      "2\n",
      "[3, 'kashif', 74.32, True]\n"
     ]
    }
   ],
   "source": [
    "print(x)\n",
    "print(y)\n",
    "print(z)"
   ]
  }
 ],
 "metadata": {
  "kernelspec": {
   "display_name": "Python 3 (ipykernel)",
   "language": "python",
   "name": "python3"
  },
  "language_info": {
   "codemirror_mode": {
    "name": "ipython",
    "version": 3
   },
   "file_extension": ".py",
   "mimetype": "text/x-python",
   "name": "python",
   "nbconvert_exporter": "python",
   "pygments_lexer": "ipython3",
   "version": "3.10.8"
  }
 },
 "nbformat": 4,
 "nbformat_minor": 5
}

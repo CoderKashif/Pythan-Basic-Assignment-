{
 "cells": [
  {
   "cell_type": "markdown",
   "id": "6e3d771c-451f-40b3-8980-6961240edcee",
   "metadata": {},
   "source": [
    "Q1. What is the syntax for adding an element to a list in Python?"
   ]
  },
  {
   "cell_type": "markdown",
   "id": "e2f9ec68-0be9-45a3-9335-c6205591ef56",
   "metadata": {},
   "source": [
    "Answer1-"
   ]
  },
  {
   "cell_type": "code",
   "execution_count": 1,
   "id": "0248d5dc-18c6-4eda-9466-f01026e6063a",
   "metadata": {},
   "outputs": [],
   "source": [
    "#for Example\n",
    "l = [1,2,3,4]"
   ]
  },
  {
   "cell_type": "markdown",
   "id": "2ba4f8e4-aff7-4a2d-b4b9-29ff87bc8bc3",
   "metadata": {},
   "source": [
    " for adiing a element to the list we use .append(), .insert() "
   ]
  },
  {
   "cell_type": "code",
   "execution_count": 3,
   "id": "bd97b8ce-6692-47cf-a099-952c887221b1",
   "metadata": {},
   "outputs": [],
   "source": [
    "l.append(5)"
   ]
  },
  {
   "cell_type": "code",
   "execution_count": 4,
   "id": "d4c62334-5806-40b0-91ed-20005125622e",
   "metadata": {},
   "outputs": [
    {
     "data": {
      "text/plain": [
       "[1, 2, 3, 4, 5]"
      ]
     },
     "execution_count": 4,
     "metadata": {},
     "output_type": "execute_result"
    }
   ],
   "source": [
    "l"
   ]
  },
  {
   "cell_type": "code",
   "execution_count": 5,
   "id": "2ddf0daa-bbed-479e-bc38-91e5e9c045db",
   "metadata": {},
   "outputs": [],
   "source": [
    "l = [1,2,3,4]"
   ]
  },
  {
   "cell_type": "code",
   "execution_count": 7,
   "id": "46840b69-d90f-42ec-9bd2-476a8408d9cf",
   "metadata": {},
   "outputs": [],
   "source": [
    "l.insert(1, 32)"
   ]
  },
  {
   "cell_type": "code",
   "execution_count": 8,
   "id": "084b5692-12a8-40e0-884a-813c64d11533",
   "metadata": {},
   "outputs": [
    {
     "data": {
      "text/plain": [
       "[1, 32, 2, 3, 4]"
      ]
     },
     "execution_count": 8,
     "metadata": {},
     "output_type": "execute_result"
    }
   ],
   "source": [
    "l"
   ]
  },
  {
   "cell_type": "markdown",
   "id": "d7954251-be8f-4a56-b302-c516b637fa4b",
   "metadata": {},
   "source": [
    "thus .append() func. add the element at the end of list when .extend(index, value) add the element at desired index of the list"
   ]
  },
  {
   "cell_type": "markdown",
   "id": "b421ea12-9dee-4efb-9d1d-434981500d73",
   "metadata": {},
   "source": [
    "Q2. What is the difference between remove() and pop() functions in Python?"
   ]
  },
  {
   "cell_type": "markdown",
   "id": "1b912f29-fc23-40b0-8b40-87e53a444434",
   "metadata": {},
   "source": [
    "Answer2-"
   ]
  },
  {
   "cell_type": "code",
   "execution_count": 13,
   "id": "e2eb8331-1bc7-45ff-98d9-e377000d6c67",
   "metadata": {},
   "outputs": [],
   "source": [
    "l1 = [2,3,4,5]"
   ]
  },
  {
   "cell_type": "code",
   "execution_count": 15,
   "id": "2d70c858-de2e-437e-b123-aa466988ba16",
   "metadata": {},
   "outputs": [],
   "source": [
    "l1.remove(5)"
   ]
  },
  {
   "cell_type": "code",
   "execution_count": 16,
   "id": "f10b3b6b-0585-4d91-95cf-526aac36c514",
   "metadata": {},
   "outputs": [
    {
     "data": {
      "text/plain": [
       "[2, 3, 4]"
      ]
     },
     "execution_count": 16,
     "metadata": {},
     "output_type": "execute_result"
    }
   ],
   "source": [
    "l1"
   ]
  },
  {
   "cell_type": "code",
   "execution_count": 17,
   "id": "2fdb447f-7a6c-4a16-9b5a-a756b1b3a284",
   "metadata": {},
   "outputs": [],
   "source": [
    "l1 = [2,3,4,5]"
   ]
  },
  {
   "cell_type": "code",
   "execution_count": 18,
   "id": "b9194b17-00d9-4976-b226-9566e1c7867b",
   "metadata": {},
   "outputs": [
    {
     "data": {
      "text/plain": [
       "5"
      ]
     },
     "execution_count": 18,
     "metadata": {},
     "output_type": "execute_result"
    }
   ],
   "source": [
    "l1.pop()"
   ]
  },
  {
   "cell_type": "code",
   "execution_count": 19,
   "id": "87227050-2549-4812-8881-f62722680536",
   "metadata": {},
   "outputs": [
    {
     "data": {
      "text/plain": [
       "[2, 3, 4]"
      ]
     },
     "execution_count": 19,
     "metadata": {},
     "output_type": "execute_result"
    }
   ],
   "source": [
    "l1"
   ]
  },
  {
   "cell_type": "code",
   "execution_count": 20,
   "id": "5f3098d7-4848-42b4-b117-e4a12cc0a4ff",
   "metadata": {},
   "outputs": [
    {
     "data": {
      "text/plain": [
       "4"
      ]
     },
     "execution_count": 20,
     "metadata": {},
     "output_type": "execute_result"
    }
   ],
   "source": [
    "l1.pop()"
   ]
  },
  {
   "cell_type": "markdown",
   "id": "2d768c0a-e345-4972-a958-7cf67e6f0bb4",
   "metadata": {},
   "source": [
    "thus .remove('value') remove first occurance of the entered value when .pop() remove the last index value from the list\n"
   ]
  },
  {
   "cell_type": "markdown",
   "id": "25d9c8b6-2892-4556-8c5b-952e3127865a",
   "metadata": {},
   "source": [
    "Q3. Write a Python code to sort a list in descending order."
   ]
  },
  {
   "cell_type": "markdown",
   "id": "78d0b023-1c76-4151-b17c-3f4aa7db89c7",
   "metadata": {},
   "source": [
    "Answer3-"
   ]
  },
  {
   "cell_type": "code",
   "execution_count": 21,
   "id": "b910bb25-4768-4404-87b7-5f26296668ee",
   "metadata": {},
   "outputs": [],
   "source": [
    "l2 = [2,8,5,3,1,6,5,0]"
   ]
  },
  {
   "cell_type": "code",
   "execution_count": 22,
   "id": "5631e68e-1fe7-43c5-b62a-1c312eb6fbb2",
   "metadata": {},
   "outputs": [],
   "source": [
    "l2.sort(reverse=True)"
   ]
  },
  {
   "cell_type": "code",
   "execution_count": 23,
   "id": "a461fafe-aa92-4b04-88e1-c6269945912b",
   "metadata": {},
   "outputs": [
    {
     "data": {
      "text/plain": [
       "[8, 6, 5, 5, 3, 2, 1, 0]"
      ]
     },
     "execution_count": 23,
     "metadata": {},
     "output_type": "execute_result"
    }
   ],
   "source": [
    "l2"
   ]
  },
  {
   "cell_type": "markdown",
   "id": "33b60f5a-dd62-4ce4-b781-997964795cd4",
   "metadata": {},
   "source": [
    "Q4. Write a Python code to count the number of occurrences of an element in a list."
   ]
  },
  {
   "cell_type": "markdown",
   "id": "2a428120-26f3-498b-8894-c29beb1cefe6",
   "metadata": {},
   "source": [
    "Answer4-"
   ]
  },
  {
   "cell_type": "code",
   "execution_count": 24,
   "id": "7116f050-088a-4e4a-be9d-ec36ed8a7354",
   "metadata": {},
   "outputs": [],
   "source": [
    "l3 = [2,1,3,4,2,2,3,2,5,5,6,7,9,5,7,8]"
   ]
  },
  {
   "cell_type": "code",
   "execution_count": 25,
   "id": "0b0c599a-79d7-46b7-b271-3d5a0dfb7d44",
   "metadata": {},
   "outputs": [
    {
     "data": {
      "text/plain": [
       "4"
      ]
     },
     "execution_count": 25,
     "metadata": {},
     "output_type": "execute_result"
    }
   ],
   "source": [
    "l3.count(2)"
   ]
  },
  {
   "cell_type": "markdown",
   "id": "5afaa983-d713-4cd1-b542-7dd9f57ac051",
   "metadata": {},
   "source": [
    "thus for counting the occurrences of an element we use .count('enter value') code or function "
   ]
  },
  {
   "cell_type": "markdown",
   "id": "f67bcb0f-a906-4da8-906a-3569104e7433",
   "metadata": {},
   "source": [
    "Q5. Write a Python code to reverse a list."
   ]
  },
  {
   "cell_type": "markdown",
   "id": "f761b64b-dd80-4cac-86b8-27dc8d884eaf",
   "metadata": {},
   "source": [
    "Answer5-"
   ]
  },
  {
   "cell_type": "code",
   "execution_count": 26,
   "id": "63cc14cd-ae27-400a-82a4-44d15cc81e68",
   "metadata": {},
   "outputs": [],
   "source": [
    "l4 = [8, 6, 5, 5, 3, 2, 1, 0]"
   ]
  },
  {
   "cell_type": "code",
   "execution_count": 27,
   "id": "0af65d45-c7b7-4ce6-90a0-8b6bdd6d7e15",
   "metadata": {},
   "outputs": [],
   "source": [
    "l4.reverse()"
   ]
  },
  {
   "cell_type": "code",
   "execution_count": 28,
   "id": "1c85fc7b-df4a-4669-bf9e-20daac361260",
   "metadata": {},
   "outputs": [
    {
     "data": {
      "text/plain": [
       "[0, 1, 2, 3, 5, 5, 6, 8]"
      ]
     },
     "execution_count": 28,
     "metadata": {},
     "output_type": "execute_result"
    }
   ],
   "source": [
    "l4"
   ]
  },
  {
   "cell_type": "markdown",
   "id": "b93d2ded-0690-49d9-b83c-68219c500f4d",
   "metadata": {},
   "source": [
    "to reverse a list we use .reverse() function"
   ]
  }
 ],
 "metadata": {
  "kernelspec": {
   "display_name": "Python 3 (ipykernel)",
   "language": "python",
   "name": "python3"
  },
  "language_info": {
   "codemirror_mode": {
    "name": "ipython",
    "version": 3
   },
   "file_extension": ".py",
   "mimetype": "text/x-python",
   "name": "python",
   "nbconvert_exporter": "python",
   "pygments_lexer": "ipython3",
   "version": "3.10.8"
  }
 },
 "nbformat": 4,
 "nbformat_minor": 5
}
